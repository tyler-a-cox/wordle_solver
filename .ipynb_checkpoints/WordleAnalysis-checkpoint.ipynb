{
 "cells": [
  {
   "cell_type": "code",
   "execution_count": 85,
   "id": "b7216168",
   "metadata": {},
   "outputs": [],
   "source": [
    "import numpy as np\n",
    "import pylab as plt\n",
    "import pandas as pd\n",
    "from tqdm import tqdm\n",
    "from typing import List\n",
    "from collections import Counter\n",
    "\n",
    "# Statistical Packages\n",
    "from scipy.stats import shapiro, gaussian_kde\n",
    "from statsmodels.graphics.gofplots import qqplot"
   ]
  },
  {
   "cell_type": "code",
   "execution_count": 96,
   "id": "62314fc1",
   "metadata": {},
   "outputs": [],
   "source": [
    "corpus = np.loadtxt('answers.txt', dtype=str)\n",
    "guesses = np.loadtxt('accepted.txt', dtype=str)\n",
    "guesses = np.array(list(guesses) + list(corpus))"
   ]
  },
  {
   "cell_type": "code",
   "execution_count": 118,
   "id": "2f548af8",
   "metadata": {},
   "outputs": [],
   "source": [
    "def assign_score(guess: str, corpus: List[str]) -> List[List[int]]:\n",
    "    \"\"\"\n",
    "    Score the Wordle guess against the true answer\n",
    "    \"\"\"\n",
    "    scores = []\n",
    "\n",
    "    for word in corpus:\n",
    "        score = [0, 0, 0, 0, 0]\n",
    "\n",
    "        counts = Counter(word)\n",
    "\n",
    "        for i, char in enumerate(guess):\n",
    "            if char == word[i]:\n",
    "                score[i] += 2\n",
    "                counts[char] -= 1\n",
    "\n",
    "        for i, char in enumerate(guess): \n",
    "            if char in word and counts[char] > 0:\n",
    "                score[i] += 1\n",
    "                counts[char] -= 1\n",
    "\n",
    "\n",
    "        scores.append(score)\n",
    "\n",
    "    return scores"
   ]
  },
  {
   "cell_type": "code",
   "execution_count": 172,
   "id": "62c8069a",
   "metadata": {},
   "outputs": [],
   "source": [
    "class Player:\n",
    "    \"\"\"\n",
    "    \"\"\"\n",
    "    def __init__(self, guesses, corpus):\n",
    "        \"\"\"\n",
    "        \"\"\"\n",
    "        self.guesses = guesses\n",
    "        self.corpus = corpus\n",
    "        self.scores, self.entropy = score_guesses(self.corpus)\n",
    "        self.best_guess = self.guesses[np.argmax(entropies)]\n",
    "    \n",
    "    def calculate_entropy(self, scores: List[float]) -> float:\n",
    "        \"\"\"\n",
    "        Calculate the entropy of a given word \n",
    "        \"\"\"\n",
    "        bins, counts = np.unique(scores, return_counts=True)\n",
    "        prob = counts / self.corpus.shape[0]\n",
    "        return -np.sum(prob * np.log2(prob))\n",
    "    \n",
    "    def score_guesses(self, corpus):\n",
    "        \"\"\"\n",
    "        \"\"\"\n",
    "        entropies = []\n",
    "        scores = []\n",
    "        for guess in tqdm(self.guesses):\n",
    "            score = np.sum(assign_score(guess, corpus), axis=1, dtype=int)\n",
    "            entropies.append(self.calculate_entropy(score))\n",
    "            scores.append(score)\n",
    "            \n",
    "        return scores, entropies\n",
    "    \n",
    "    def make_guess(self):\n",
    "        \"\"\"\n",
    "        \"\"\"\n",
    "        pass\n",
    "            \n",
    "    \n",
    "\n",
    "class WordleGame:\n",
    "    \"\"\"\n",
    "    \"\"\"\n",
    "    def __init__(self, corpus, n_games=1):\n",
    "        \"\"\"\n",
    "        \"\"\"\n",
    "        self.corpus = corpus\n",
    "        self.true_words = np.random.choice(corpus, replace=False, size=min(n_games, corpus.shape[0]))\n",
    "        self.guesses = {true_word: [] for true_word in self.true_words}\n",
    "        \n",
    "    def play_games(self, player):\n",
    "        \"\"\"\n",
    "        \"\"\"\n",
    "        guess = ''\n",
    "        self.guesses = {true_word: [] for true_word in self.true_words}\n",
    "        \n",
    "        for key in self.guesses.keys():\n",
    "            available_words = player.guesses\n",
    "            while guess != key:\n",
    "                if len(self.guesses[key]) == 0:\n",
    "                    guess = player.best_guess\n",
    "                    score = assign_score(guess, [key])[0]\n",
    "                    available_words = self.filter_words(guess, score, available_words)\n",
    "                    self.guesses[key].append(guess)\n",
    "                    \n",
    "                else:\n",
    "                    guess = player.make_guess(available_words)\n",
    "                    score = assign_score(guess, [key])[0]\n",
    "                    available_words = self.filter_words(guess, score, available_words)\n",
    "                    self.guesses[key].append(guess)\n",
    "                    \n",
    "    def filter_words(self, guess, score, available_words) -> List[str]:\n",
    "        \"\"\"\n",
    "        \"\"\"\n",
    "        new_list = []\n",
    "        for word in available_words:\n",
    "            counts = Counter(word)\n",
    "            \n",
    "            for i, char in enumerate(guess):\n",
    "                if char == word[i]:\n",
    "                    \n",
    "                    counts[char] -= 1\n",
    "\n",
    "            for i, char in enumerate(guess): \n",
    "                if char in word and counts[char] > 0:\n",
    "                    \n",
    "                    counts[char] -= 1"
   ]
  },
  {
   "cell_type": "code",
   "execution_count": 158,
   "id": "ef78b4c6",
   "metadata": {},
   "outputs": [],
   "source": [
    "player = Player(guesses, corpus)"
   ]
  },
  {
   "cell_type": "code",
   "execution_count": 159,
   "id": "90ccbc59",
   "metadata": {},
   "outputs": [
    {
     "name": "stderr",
     "output_type": "stream",
     "text": [
      "100%|██████████| 12972/12972 [01:50<00:00, 117.77it/s]\n"
     ]
    }
   ],
   "source": [
    "scores, entropies = player.score_guesses(corpus)"
   ]
  },
  {
   "cell_type": "code",
   "execution_count": 163,
   "id": "fc313653",
   "metadata": {},
   "outputs": [],
   "source": [
    "scores = np.array(scores)"
   ]
  },
  {
   "cell_type": "code",
   "execution_count": 164,
   "id": "0d5c1b24",
   "metadata": {},
   "outputs": [
    {
     "data": {
      "text/plain": [
       "array([[ 3,  4,  4, ...,  2,  1,  1],\n",
       "       [ 3,  3,  3, ...,  1,  0,  2],\n",
       "       [ 3,  3,  3, ...,  2,  0,  1],\n",
       "       ...,\n",
       "       [ 2,  3,  3, ..., 10,  4,  3],\n",
       "       [ 0,  2,  3, ...,  4, 10,  2],\n",
       "       [ 1,  1,  1, ...,  3,  2, 10]])"
      ]
     },
     "execution_count": 164,
     "metadata": {},
     "output_type": "execute_result"
    }
   ],
   "source": [
    "scores"
   ]
  },
  {
   "cell_type": "code",
   "execution_count": 168,
   "id": "8ccde52c",
   "metadata": {},
   "outputs": [],
   "source": [
    "wordle = WordleGame(corpus, n_games=100)"
   ]
  },
  {
   "cell_type": "code",
   "execution_count": 169,
   "id": "fc5dcad3",
   "metadata": {},
   "outputs": [
    {
     "ename": "AttributeError",
     "evalue": "'WordleGame' object has no attribute 'assign_score'",
     "output_type": "error",
     "traceback": [
      "\u001b[0;31m---------------------------------------------------------------------------\u001b[0m",
      "\u001b[0;31mAttributeError\u001b[0m                            Traceback (most recent call last)",
      "\u001b[0;32m<ipython-input-169-b0bc7bfa942e>\u001b[0m in \u001b[0;36m<module>\u001b[0;34m\u001b[0m\n\u001b[0;32m----> 1\u001b[0;31m \u001b[0mwordle\u001b[0m\u001b[0;34m.\u001b[0m\u001b[0massign_score\u001b[0m\u001b[0;34m(\u001b[0m\u001b[0;34m'shart'\u001b[0m\u001b[0;34m)\u001b[0m\u001b[0;34m\u001b[0m\u001b[0;34m\u001b[0m\u001b[0m\n\u001b[0m",
      "\u001b[0;31mAttributeError\u001b[0m: 'WordleGame' object has no attribute 'assign_score'"
     ]
    }
   ],
   "source": [
    "wordle.assign_score('shart')"
   ]
  },
  {
   "cell_type": "code",
   "execution_count": 66,
   "id": "19d2a641",
   "metadata": {},
   "outputs": [
    {
     "name": "stderr",
     "output_type": "stream",
     "text": [
      "100%|██████████| 12972/12972 [01:31<00:00, 142.26it/s]\n"
     ]
    }
   ],
   "source": [
    "entropy = []\n",
    "score_matrix = []\n",
    "categories = 10\n",
    "\n",
    "\n",
    "for word in tqdm(guesses):\n",
    "    entropy.append(assign_score(word, text))"
   ]
  },
  {
   "cell_type": "code",
   "execution_count": 80,
   "id": "641b665f",
   "metadata": {},
   "outputs": [
    {
     "data": {
      "image/png": "[encoded data removed]",
      "text/plain": [
       "<Figure size 720x432 with 1 Axes>"
      ]
     },
     "metadata": {
      "needs_background": "light"
     },
     "output_type": "display_data"
    }
   ],
   "source": [
    "plt.figure(figsize=(10, 6))\n",
    "plt.hist(2 ** np.array(entropy), bins=100, histtype='step', density=True)\n",
    "plt.show()"
   ]
  },
  {
   "cell_type": "markdown",
   "id": "e090416a",
   "metadata": {},
   "source": [
    "This is the word that maximizes your potential first score. We don't care what our first score is, we're most interested in solving the puzzle in the fewest number of attempts. If we really want to solve Wordle, we need to find words that most evenly the data between some midpoint score."
   ]
  },
  {
   "cell_type": "markdown",
   "id": "3e3ad090",
   "metadata": {},
   "source": [
    "## Maximizing Entropy"
   ]
  },
  {
   "cell_type": "markdown",
   "id": "14f99e25",
   "metadata": {},
   "source": [
    "A naive approach to solving Wordle is selecting a word that."
   ]
  },
  {
   "cell_type": "code",
   "execution_count": 140,
   "id": "cc59c970",
   "metadata": {},
   "outputs": [
    {
     "name": "stderr",
     "output_type": "stream",
     "text": [
      "<ipython-input-140-0d746b8c9873>:2: RuntimeWarning: divide by zero encountered in log2\n",
      "  H = -p * np.log2(p) - (1 - p) * np.log2(1 - p)\n",
      "<ipython-input-140-0d746b8c9873>:2: RuntimeWarning: invalid value encountered in multiply\n",
      "  H = -p * np.log2(p) - (1 - p) * np.log2(1 - p)\n"
     ]
    }
   ],
   "source": [
    "p = np.linspace(0, 1, 500)\n",
    "H = -p * np.log2(p) - (1 - p) * np.log2(1 - p)"
   ]
  },
  {
   "cell_type": "code",
   "execution_count": 141,
   "id": "93ed324e",
   "metadata": {},
   "outputs": [
    {
     "data": {
      "text/plain": [
       "[<matplotlib.lines.Line2D at 0x12435d1f0>]"
      ]
     },
     "execution_count": 141,
     "metadata": {},
     "output_type": "execute_result"
    },
    {
     "data": {
      "image/png": "[encoded data removed]",
      "text/plain": [
       "<Figure size 432x288 with 1 Axes>"
      ]
     },
     "metadata": {
      "needs_background": "light"
     },
     "output_type": "display_data"
    }
   ],
   "source": [
    "plt.plot(p, H)"
   ]
  },
  {
   "cell_type": "code",
   "execution_count": null,
   "id": "63fcaeb3",
   "metadata": {},
   "outputs": [],
   "source": []
  }
 ],
 "metadata": {
  "kernelspec": {
   "display_name": "Python 3",
   "language": "python",
   "name": "python3"
  },
  "language_info": {
   "codemirror_mode": {
    "name": "ipython",
    "version": 3
   },
   "file_extension": ".py",
   "mimetype": "text/x-python",
   "name": "python",
   "nbconvert_exporter": "python",
   "pygments_lexer": "ipython3",
   "version": "3.8.8"
  },
  "toc": {
   "base_numbering": 1,
   "nav_menu": {},
   "number_sections": true,
   "sideBar": true,
   "skip_h1_title": false,
   "title_cell": "Table of Contents",
   "title_sidebar": "Contents",
   "toc_cell": false,
   "toc_position": {},
   "toc_section_display": true,
   "toc_window_display": false
  }
 },
 "nbformat": 4,
 "nbformat_minor": 5
}
